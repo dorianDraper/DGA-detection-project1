{
 "cells": [
  {
   "cell_type": "code",
   "execution_count": null,
   "metadata": {},
   "outputs": [],
   "source": [
    "# Get and show the most commong 'tld' associated with target 'isDGA' \n",
    "dga_tld = df[df['isDGA'] == 1]['tld'].value_counts()    \n",
    "print(f\"DGA common TLD: {dga_tld}\")"
   ]
  },
  {
   "cell_type": "code",
   "execution_count": null,
   "metadata": {},
   "outputs": [],
   "source": [
    "# Plot the 7 most common 'tld' associated with target 'isDGA'\n",
    "plt.figure(figsize=(10, 6))\n",
    "sns.barplot(x=dga_tld[:7].index, y=dga_tld[:7].values, palette='viridis')\n",
    "plt.title('Most common TLD in DGA domains')\n",
    "plt.show()"
   ]
  },
  {
   "cell_type": "code",
   "execution_count": null,
   "metadata": {},
   "outputs": [],
   "source": [
    "# domain_name lenght vs isDGA\n",
    "plt.figure(figsize=(10, 6))\n",
    "sns.histplot(data=df_final, x='domain_name_length', hue='isDGA', bins=50, kde=True) \n",
    "plt.title('Domain Name Length by isDGA')\n",
    "plt.show()"
   ]
  },
  {
   "cell_type": "code",
   "execution_count": null,
   "metadata": {},
   "outputs": [],
   "source": [
    "# Scatter plot with entropy DGA plotting\n",
    "plt.figure(figsize=(7, 4))\n",
    "plt.scatter(df_final['entropy'], df_final['isDGA'], alpha=0.5)\n",
    "plt.xlabel('Entropy')\n",
    "plt.ylabel('isDGA')\n",
    "plt.title('Entropy vs. isDGA')\n",
    "plt.grid(True)\n",
    "plt.show()"
   ]
  }
 ],
 "metadata": {
  "language_info": {
   "name": "python"
  }
 },
 "nbformat": 4,
 "nbformat_minor": 2
}
