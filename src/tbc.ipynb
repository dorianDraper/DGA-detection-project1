{
 "cells": [
  {
   "cell_type": "code",
   "execution_count": null,
   "metadata": {},
   "outputs": [],
   "source": [
    "# Get and show the most commong 'tld' associated with target 'isDGA' \n",
    "dga_tld = df[df['isDGA'] == 1]['tld'].value_counts()    \n",
    "print(f\"DGA common TLD: {dga_tld}\")"
   ]
  },
  {
   "cell_type": "code",
   "execution_count": null,
   "metadata": {},
   "outputs": [],
   "source": [
    "# Plot the 7 most common 'tld' associated with target 'isDGA'\n",
    "plt.figure(figsize=(10, 6))\n",
    "sns.barplot(x=dga_tld[:7].index, y=dga_tld[:7].values, palette='viridis')\n",
    "plt.title('Most common TLD in DGA domains')\n",
    "plt.show()"
   ]
  },
  {
   "cell_type": "code",
   "execution_count": null,
   "metadata": {},
   "outputs": [],
   "source": [
    "# domain_name lenght vs isDGA\n",
    "plt.figure(figsize=(10, 6))\n",
    "sns.histplot(data=df_final, x='domain_name_length', hue='isDGA', bins=50, kde=True) \n",
    "plt.title('Domain Name Length by isDGA')\n",
    "plt.show()"
   ]
  }
 ],
 "metadata": {
  "language_info": {
   "name": "python"
  }
 },
 "nbformat": 4,
 "nbformat_minor": 2
}
